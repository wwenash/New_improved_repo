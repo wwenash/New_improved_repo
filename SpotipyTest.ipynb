{
 "cells": [
  {
   "cell_type": "code",
   "execution_count": 192,
   "metadata": {
    "collapsed": true
   },
   "outputs": [],
   "source": [
    "import spotipy\n",
    "from spotipy import util\n",
    "from pprint import pprint\n",
    "import random\n",
    "import string\n",
    "import pandas as pd\n",
    "import numpy as np\n",
    "\n",
    "username = 'ernyjyqoecerasugt8dpmhbmo'\n",
    "scope = 'playlist-modify-public'\n",
    "my_client_id = '83c842b2f4d447b6b2a19df91847487d'\n",
    "my_client_secret = '8bd6101237114d9eb851e2d3183affce'"
   ]
  },
  {
   "cell_type": "code",
   "execution_count": 193,
   "metadata": {},
   "outputs": [],
   "source": [
    "spotify_token = util.prompt_for_user_token(username, \n",
    "                                           scope, \n",
    "                                           client_id=my_client_id, \n",
    "                                           client_secret=my_client_secret,\n",
    "                                           redirect_uri='http://example.com/callback/')"
   ]
  },
  {
   "cell_type": "code",
   "execution_count": 194,
   "metadata": {},
   "outputs": [
    {
     "data": {
      "text/html": [
       "<div>\n",
       "<style>\n",
       "    .dataframe thead tr:only-child th {\n",
       "        text-align: right;\n",
       "    }\n",
       "\n",
       "    .dataframe thead th {\n",
       "        text-align: left;\n",
       "    }\n",
       "\n",
       "    .dataframe tbody tr th {\n",
       "        vertical-align: top;\n",
       "    }\n",
       "</style>\n",
       "<table border=\"1\" class=\"dataframe\">\n",
       "  <thead>\n",
       "    <tr style=\"text-align: right;\">\n",
       "      <th></th>\n",
       "      <th>Song Name</th>\n",
       "      <th>Artists</th>\n",
       "      <th>Year</th>\n",
       "      <th>Genre</th>\n",
       "      <th>Song Length</th>\n",
       "      <th>Song Popularity</th>\n",
       "      <th>Song ID</th>\n",
       "      <th>Acousticness</th>\n",
       "      <th>Danceability</th>\n",
       "      <th>Energy</th>\n",
       "      <th>Liveness</th>\n",
       "      <th>Speechiness</th>\n",
       "      <th>Valence</th>\n",
       "    </tr>\n",
       "  </thead>\n",
       "  <tbody>\n",
       "    <tr>\n",
       "      <th>0</th>\n",
       "      <td>NaN</td>\n",
       "      <td>NaN</td>\n",
       "      <td>NaN</td>\n",
       "      <td>NaN</td>\n",
       "      <td>NaN</td>\n",
       "      <td>NaN</td>\n",
       "      <td>NaN</td>\n",
       "      <td>NaN</td>\n",
       "      <td>NaN</td>\n",
       "      <td>NaN</td>\n",
       "      <td>NaN</td>\n",
       "      <td>NaN</td>\n",
       "      <td>NaN</td>\n",
       "    </tr>\n",
       "  </tbody>\n",
       "</table>\n",
       "</div>"
      ],
      "text/plain": [
       "  Song Name Artists Year Genre Song Length Song Popularity Song ID  \\\n",
       "0       NaN     NaN  NaN   NaN         NaN             NaN     NaN   \n",
       "\n",
       "  Acousticness Danceability Energy Liveness Speechiness Valence  \n",
       "0          NaN          NaN    NaN      NaN         NaN     NaN  "
      ]
     },
     "execution_count": 194,
     "metadata": {},
     "output_type": "execute_result"
    }
   ],
   "source": [
    "sp = spotipy.Spotify(auth=spotify_token)\n",
    "\n",
    "index = np.arange(0,1,1)\n",
    "\n",
    "dfcolumns = [\"Song Name\",\"Artists\",\"Year\",\"Genre\",\"Song Length\",\"Song Popularity\",\"Song ID\",\"Acousticness\",\"Danceability\",\n",
    "          \"Energy\",\"Liveness\",\"Speechiness\",\"Valence\"]\n",
    "df = pd.DataFrame(index=index,columns=dfcolumns)\n",
    "df"
   ]
  },
  {
   "cell_type": "code",
   "execution_count": 195,
   "metadata": {
    "collapsed": true
   },
   "outputs": [],
   "source": [
    "#duration = []\n",
    "#year = []\n",
    "#name = []\n",
    "#popularity = []\n",
    "#song_id = []\n",
    "\n"
   ]
  },
  {
   "cell_type": "code",
   "execution_count": 196,
   "metadata": {},
   "outputs": [
    {
     "name": "stdout",
     "output_type": "stream",
     "text": [
      "['From The D To The A (feat. Lil Yachty)', 'Tee Grizzley, Lil Yachty', '2017-03-17', 76, '2NyrXRn4tancYPW6JwtTl2']\n",
      "{'external_urls': {'spotify': 'https://open.spotify.com/artist/6AUl0ykLLpvTktob97x9hO'},\n",
      " 'followers': {'href': None, 'total': 974127},\n",
      " 'genres': ['detroit hip hop',\n",
      "            'detroit trap',\n",
      "            'hip hop',\n",
      "            'pop rap',\n",
      "            'rap',\n",
      "            'southern hip hop',\n",
      "            'trap music',\n",
      "            'vapor trap'],\n",
      " 'href': 'https://api.spotify.com/v1/artists/6AUl0ykLLpvTktob97x9hO',\n",
      " 'id': '6AUl0ykLLpvTktob97x9hO',\n",
      " 'images': [{'height': 640,\n",
      "             'url': 'https://i.scdn.co/image/a6fa6f656f17456c63bf562623927134c0f4d2c5',\n",
      "             'width': 640},\n",
      "            {'height': 320,\n",
      "             'url': 'https://i.scdn.co/image/de8b68193d290ff3d753861b5bee33c6f77060f4',\n",
      "             'width': 320},\n",
      "            {'height': 160,\n",
      "             'url': 'https://i.scdn.co/image/e39bfb2895afb4a8a4b98185ed98bd2c10cc320c',\n",
      "             'width': 160}],\n",
      " 'name': 'Tee Grizzley',\n",
      " 'popularity': 75,\n",
      " 'type': 'artist',\n",
      " 'uri': 'spotify:artist:6AUl0ykLLpvTktob97x9hO'}\n"
     ]
    }
   ],
   "source": [
    "#for i in range(10):\n",
    "\n",
    "random_letter = random.choice(string.ascii_lowercase)\n",
    "search_offset = random.randint(0,21)\n",
    "\n",
    "results = sp.search(q=random_letter, type='track', offset=search_offset, limit=20)\n",
    "\n",
    "#pprint(results[\"tracks\"][\"items\"][0])\n",
    "artists = \"\"\n",
    "try:\n",
    "    for x in range(len(results[\"tracks\"][\"items\"][0][\"artists\"])):\n",
    "        artists = artists+(results[\"tracks\"][\"items\"][0][\"artists\"][x][\"name\"])\n",
    "        if x < len(results[\"tracks\"][\"items\"][0][\"artists\"])-1:\n",
    "            artists = artists + \", \"\n",
    "\n",
    "    duration = results[\"tracks\"][\"items\"][0][\"duration_ms\"]\n",
    "    year = results[\"tracks\"][\"items\"][0][\"album\"][\"release_date\"]\n",
    "    name = results[\"tracks\"][\"items\"][0][\"name\"]\n",
    "    popularity = results[\"tracks\"][\"items\"][0][\"popularity\"]\n",
    "    song_id = results[\"tracks\"][\"items\"][0][\"id\"]\n",
    "    print([name,artists,year,popularity,song_id])\n",
    "    feats = sp.audio_features(song_id)\n",
    "    artist = sp.artist(results[\"tracks\"][\"items\"][0][\"artists\"][0][\"uri\"])\n",
    "    try:\n",
    "        genre = artist[\"genres\"][0]\n",
    "    except:\n",
    "        genre = \"\"\n",
    "    pprint(artist)\n",
    "    #pprint(feats)\n",
    "\n",
    "except:\n",
    "    print(\"error getting song info\")\n",
    "    \n",
    "df[\"Song Name\"] = name\n",
    "df[\"Artists\"] = artists\n",
    "df[\"Year\"] = year\n",
    "df[\"Genre\"] = genre\n",
    "df[\"Song Length\"] = duration\n",
    "df[\"Song Popularity\"] = popularity\n",
    "df[\"Song ID\"] = song_id\n",
    "df[\"Acousticness\"] = feats[0][\"acousticness\"]\n",
    "df[\"Danceability\"] = feats[0][\"danceability\"]\n",
    "df[\"Energy\"] = feats[0][\"energy\"]\n",
    "df[\"Liveness\"] = feats[0][\"liveness\"]\n",
    "df[\"Speechiness\"] = feats[0][\"speechiness\"]\n",
    "df[\"Valence\"] = feats[0][\"valence\"]"
   ]
  },
  {
   "cell_type": "code",
   "execution_count": 197,
   "metadata": {},
   "outputs": [
    {
     "data": {
      "text/html": [
       "<div>\n",
       "<style>\n",
       "    .dataframe thead tr:only-child th {\n",
       "        text-align: right;\n",
       "    }\n",
       "\n",
       "    .dataframe thead th {\n",
       "        text-align: left;\n",
       "    }\n",
       "\n",
       "    .dataframe tbody tr th {\n",
       "        vertical-align: top;\n",
       "    }\n",
       "</style>\n",
       "<table border=\"1\" class=\"dataframe\">\n",
       "  <thead>\n",
       "    <tr style=\"text-align: right;\">\n",
       "      <th></th>\n",
       "      <th>Song Name</th>\n",
       "      <th>Artists</th>\n",
       "      <th>Year</th>\n",
       "      <th>Genre</th>\n",
       "      <th>Song Length</th>\n",
       "      <th>Song Popularity</th>\n",
       "      <th>Song ID</th>\n",
       "      <th>Acousticness</th>\n",
       "      <th>Danceability</th>\n",
       "      <th>Energy</th>\n",
       "      <th>Liveness</th>\n",
       "      <th>Speechiness</th>\n",
       "      <th>Valence</th>\n",
       "    </tr>\n",
       "  </thead>\n",
       "  <tbody>\n",
       "    <tr>\n",
       "      <th>0</th>\n",
       "      <td>From The D To The A (feat. Lil Yachty)</td>\n",
       "      <td>Tee Grizzley, Lil Yachty</td>\n",
       "      <td>2017-03-17</td>\n",
       "      <td>detroit hip hop</td>\n",
       "      <td>158684</td>\n",
       "      <td>76</td>\n",
       "      <td>2NyrXRn4tancYPW6JwtTl2</td>\n",
       "      <td>0.195</td>\n",
       "      <td>0.851</td>\n",
       "      <td>0.625</td>\n",
       "      <td>0.266</td>\n",
       "      <td>0.303</td>\n",
       "      <td>0.668</td>\n",
       "    </tr>\n",
       "  </tbody>\n",
       "</table>\n",
       "</div>"
      ],
      "text/plain": [
       "                                Song Name                   Artists  \\\n",
       "0  From The D To The A (feat. Lil Yachty)  Tee Grizzley, Lil Yachty   \n",
       "\n",
       "         Year            Genre  Song Length  Song Popularity  \\\n",
       "0  2017-03-17  detroit hip hop       158684               76   \n",
       "\n",
       "                  Song ID  Acousticness  Danceability  Energy  Liveness  \\\n",
       "0  2NyrXRn4tancYPW6JwtTl2         0.195         0.851   0.625     0.266   \n",
       "\n",
       "   Speechiness  Valence  \n",
       "0        0.303    0.668  "
      ]
     },
     "execution_count": 197,
     "metadata": {},
     "output_type": "execute_result"
    }
   ],
   "source": [
    "df"
   ]
  },
  {
   "cell_type": "code",
   "execution_count": null,
   "metadata": {
    "collapsed": true
   },
   "outputs": [],
   "source": []
  }
 ],
 "metadata": {
  "kernelspec": {
   "display_name": "Python 3",
   "language": "python",
   "name": "python3"
  },
  "language_info": {
   "codemirror_mode": {
    "name": "ipython",
    "version": 3
   },
   "file_extension": ".py",
   "mimetype": "text/x-python",
   "name": "python",
   "nbconvert_exporter": "python",
   "pygments_lexer": "ipython3",
   "version": "3.6.3"
  }
 },
 "nbformat": 4,
 "nbformat_minor": 2
}
