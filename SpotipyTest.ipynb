{
 "cells": [
  {
   "cell_type": "code",
   "execution_count": 24,
   "metadata": {},
   "outputs": [],
   "source": [
    "import spotipy\n",
    "from spotipy import util\n",
    "from pprint import pprint\n",
    "\n",
    "username = 'ernyjyqoecerasugt8dpmhbmo'\n",
    "scope = 'playlist-modify-public'\n",
    "my_client_id = '83c842b2f4d447b6b2a19df91847487d'\n",
    "my_client_secret = '8bd6101237114d9eb851e2d3183affce'"
   ]
  },
  {
   "cell_type": "code",
   "execution_count": 19,
   "metadata": {},
   "outputs": [
    {
     "name": "stdout",
     "output_type": "stream",
     "text": [
      "\n",
      "\n",
      "            User authentication requires interaction with your\n",
      "            web browser. Once you enter your credentials and\n",
      "            give authorization, you will be redirected to\n",
      "            a url.  Paste that url you were directed to to\n",
      "            complete the authorization.\n",
      "\n",
      "        \n",
      "Opened https://accounts.spotify.com/authorize?client_id=83c842b2f4d447b6b2a19df91847487d&response_type=code&redirect_uri=http%3A%2F%2Fexample.com%2Fcallback%2F&scope=playlist-modify-public in your browser\n",
      "\n",
      "\n",
      "Enter the URL you were redirected to: http://example.com/callback/?code=AQC9pyXVsJoO5-qY9DU9PRxIm8ze2EYrWYNuPkN6-mVxmd_XyD27Q5ppsWDv12MJDo0HsVtPs3NuQdyW3NuTn2qrWG1DdpLb4UAbPG-_wFPk7R8Ugc6Ae3CjDVQQogQikoGGBqjXzJvw4cHV9Pjk9X2Qx2xfnnlaDY_RZILh8eVhB2IwInAhptjtqLSEpdW7x36EKxa9MYwem4kEiQkTi9xb2VNuIflEybkDSA\n",
      "\n",
      "\n"
     ]
    }
   ],
   "source": [
    "spotify_token = util.prompt_for_user_token(username, \n",
    "                                           scope, \n",
    "                                           client_id=my_client_id, \n",
    "                                           client_secret=my_client_secret,\n",
    "                                           redirect_uri='http://example.com/callback/')"
   ]
  },
  {
   "cell_type": "code",
   "execution_count": 20,
   "metadata": {
    "collapsed": true
   },
   "outputs": [],
   "source": [
    "sp = spotipy.Spotify(auth=spotify_token)"
   ]
  },
  {
   "cell_type": "code",
   "execution_count": 120,
   "metadata": {},
   "outputs": [],
   "source": [
    "import random\n",
    "\n",
    "search_keys = [\"a\",\"b\",\"c\",\"d\",\"e\",\"f\",\"g\",\"h\",\"i\",\"j\",\"k\",\"l\",\"m\",\"n\",\"o\",\"p\",\"q\",\"r\",\"s\",\"t\",\"u\",\"v\",\"w\",\"x\",\"y\",\"z\"]\n",
    "random_letter = search_keys[random.randint(0,len(search_keys)-1)]\n",
    "search_offset = random.randint(0,21)\n",
    "\n",
    "results = sp.search(q=random_letter, type='track', offset=search_offset, limit=1)\n"
   ]
  },
  {
   "cell_type": "code",
   "execution_count": 121,
   "metadata": {},
   "outputs": [
    {
     "name": "stdout",
     "output_type": "stream",
     "text": [
      "['Regulate', ['Warren G', 'Nate Dogg'], '1994-06-07', '7nYvUtkQMx1v80S2FH2s9J']\n"
     ]
    }
   ],
   "source": [
    "#pprint(results[\"tracks\"][\"items\"][0])\n",
    "artists = []\n",
    "for x in range(len(results[\"tracks\"][\"items\"][0][\"artists\"])):\n",
    "    artists.append(results[\"tracks\"][\"items\"][0][\"artists\"][x][\"name\"])\n",
    "year = results[\"tracks\"][\"items\"][0][\"album\"][\"release_date\"]\n",
    "name = results[\"tracks\"][\"items\"][0][\"name\"]\n",
    "song_id = results[\"tracks\"][\"items\"][0][\"id\"]\n",
    "print([name,artists,year,song_id])"
   ]
  },
  {
   "cell_type": "code",
   "execution_count": 122,
   "metadata": {},
   "outputs": [
    {
     "name": "stdout",
     "output_type": "stream",
     "text": [
      "[{'acousticness': 0.29,\n",
      "  'analysis_url': 'https://api.spotify.com/v1/audio-analysis/7nYvUtkQMx1v80S2FH2s9J',\n",
      "  'danceability': 0.845,\n",
      "  'duration_ms': 248867,\n",
      "  'energy': 0.51,\n",
      "  'id': '7nYvUtkQMx1v80S2FH2s9J',\n",
      "  'instrumentalness': 2.39e-06,\n",
      "  'key': 11,\n",
      "  'liveness': 0.114,\n",
      "  'loudness': -13.064,\n",
      "  'mode': 0,\n",
      "  'speechiness': 0.224,\n",
      "  'tempo': 95.265,\n",
      "  'time_signature': 4,\n",
      "  'track_href': 'https://api.spotify.com/v1/tracks/7nYvUtkQMx1v80S2FH2s9J',\n",
      "  'type': 'audio_features',\n",
      "  'uri': 'spotify:track:7nYvUtkQMx1v80S2FH2s9J',\n",
      "  'valence': 0.74}]\n"
     ]
    }
   ],
   "source": [
    "feats = sp.audio_features(song_id)\n",
    "pprint(feats)"
   ]
  },
  {
   "cell_type": "code",
   "execution_count": null,
   "metadata": {
    "collapsed": true
   },
   "outputs": [],
   "source": []
  }
 ],
 "metadata": {
  "kernelspec": {
   "display_name": "Python 3",
   "language": "python",
   "name": "python3"
  },
  "language_info": {
   "codemirror_mode": {
    "name": "ipython",
    "version": 3
   },
   "file_extension": ".py",
   "mimetype": "text/x-python",
   "name": "python",
   "nbconvert_exporter": "python",
   "pygments_lexer": "ipython3",
   "version": "3.6.3"
  }
 },
 "nbformat": 4,
 "nbformat_minor": 2
}
