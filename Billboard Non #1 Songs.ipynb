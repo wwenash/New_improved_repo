{
 "cells": [
  {
   "cell_type": "code",
   "execution_count": 1,
   "metadata": {
    "collapsed": true
   },
   "outputs": [],
   "source": [
    "import matplotlib.pyplot as plt\n",
    "import pandas as pd\n",
    "import numpy as np"
   ]
  },
  {
   "cell_type": "code",
   "execution_count": 2,
   "metadata": {},
   "outputs": [
    {
     "data": {
      "text/html": [
       "<div>\n",
       "<style>\n",
       "    .dataframe thead tr:only-child th {\n",
       "        text-align: right;\n",
       "    }\n",
       "\n",
       "    .dataframe thead th {\n",
       "        text-align: left;\n",
       "    }\n",
       "\n",
       "    .dataframe tbody tr th {\n",
       "        vertical-align: top;\n",
       "    }\n",
       "</style>\n",
       "<table border=\"1\" class=\"dataframe\">\n",
       "  <thead>\n",
       "    <tr style=\"text-align: right;\">\n",
       "      <th></th>\n",
       "      <th>Title</th>\n",
       "      <th>Artist</th>\n",
       "      <th>Peak_Position</th>\n",
       "      <th>Song ID</th>\n",
       "      <th>Song Popularity</th>\n",
       "      <th>Acousticness</th>\n",
       "      <th>Danceability</th>\n",
       "      <th>Energy</th>\n",
       "      <th>Liveness</th>\n",
       "      <th>Speechiness</th>\n",
       "      <th>Valence</th>\n",
       "      <th>Tempo</th>\n",
       "      <th>Instrumentalness</th>\n",
       "      <th>Loudness</th>\n",
       "    </tr>\n",
       "  </thead>\n",
       "  <tbody>\n",
       "    <tr>\n",
       "      <th>0</th>\n",
       "      <td>\"Yep!\"</td>\n",
       "      <td>Duane Eddy His Twangy Guitar And The Rebels</td>\n",
       "      <td>30</td>\n",
       "      <td>NaN</td>\n",
       "      <td>NaN</td>\n",
       "      <td>NaN</td>\n",
       "      <td>NaN</td>\n",
       "      <td>NaN</td>\n",
       "      <td>NaN</td>\n",
       "      <td>NaN</td>\n",
       "      <td>NaN</td>\n",
       "      <td>NaN</td>\n",
       "      <td>NaN</td>\n",
       "      <td>NaN</td>\n",
       "    </tr>\n",
       "    <tr>\n",
       "      <th>1</th>\n",
       "      <td>'Til</td>\n",
       "      <td>The Angels</td>\n",
       "      <td>14</td>\n",
       "      <td>4xDL1E4h0s3gHADCG7EQBd</td>\n",
       "      <td>0.0</td>\n",
       "      <td>0.7250</td>\n",
       "      <td>0.508</td>\n",
       "      <td>0.368</td>\n",
       "      <td>0.133</td>\n",
       "      <td>0.0248</td>\n",
       "      <td>0.337</td>\n",
       "      <td>90.043</td>\n",
       "      <td>0.818</td>\n",
       "      <td>-7.697</td>\n",
       "    </tr>\n",
       "    <tr>\n",
       "      <th>2</th>\n",
       "      <td>('til) I Kissed You</td>\n",
       "      <td>The Everly Brothers</td>\n",
       "      <td>4</td>\n",
       "      <td>0hA25gRi0Gh56Lb1wrud2Q</td>\n",
       "      <td>0.0</td>\n",
       "      <td>0.0231</td>\n",
       "      <td>0.704</td>\n",
       "      <td>0.686</td>\n",
       "      <td>0.183</td>\n",
       "      <td>0.0284</td>\n",
       "      <td>0.579</td>\n",
       "      <td>138.562</td>\n",
       "      <td>0.000</td>\n",
       "      <td>-8.509</td>\n",
       "    </tr>\n",
       "    <tr>\n",
       "      <th>3</th>\n",
       "      <td>(A Ship Will Come) Ein Schiff Wird Kommen</td>\n",
       "      <td>Lale Anderson</td>\n",
       "      <td>88</td>\n",
       "      <td>NaN</td>\n",
       "      <td>NaN</td>\n",
       "      <td>NaN</td>\n",
       "      <td>NaN</td>\n",
       "      <td>NaN</td>\n",
       "      <td>NaN</td>\n",
       "      <td>NaN</td>\n",
       "      <td>NaN</td>\n",
       "      <td>NaN</td>\n",
       "      <td>NaN</td>\n",
       "      <td>NaN</td>\n",
       "    </tr>\n",
       "    <tr>\n",
       "      <th>4</th>\n",
       "      <td>(All of a Sudden) My Heart Sings</td>\n",
       "      <td>Paul Anka</td>\n",
       "      <td>15</td>\n",
       "      <td>5Eeq19q3Ft77GpSENEZL2I</td>\n",
       "      <td>23.0</td>\n",
       "      <td>0.8090</td>\n",
       "      <td>0.307</td>\n",
       "      <td>0.267</td>\n",
       "      <td>0.269</td>\n",
       "      <td>0.0327</td>\n",
       "      <td>0.390</td>\n",
       "      <td>111.322</td>\n",
       "      <td>0.000</td>\n",
       "      <td>-11.898</td>\n",
       "    </tr>\n",
       "  </tbody>\n",
       "</table>\n",
       "</div>"
      ],
      "text/plain": [
       "                                       Title  \\\n",
       "0                                     \"Yep!\"   \n",
       "1                                       'Til   \n",
       "2                        ('til) I Kissed You   \n",
       "3  (A Ship Will Come) Ein Schiff Wird Kommen   \n",
       "4           (All of a Sudden) My Heart Sings   \n",
       "\n",
       "                                        Artist  Peak_Position  \\\n",
       "0  Duane Eddy His Twangy Guitar And The Rebels             30   \n",
       "1                                   The Angels             14   \n",
       "2                          The Everly Brothers              4   \n",
       "3                                Lale Anderson             88   \n",
       "4                                    Paul Anka             15   \n",
       "\n",
       "                  Song ID  Song Popularity  Acousticness  Danceability  \\\n",
       "0                     NaN              NaN           NaN           NaN   \n",
       "1  4xDL1E4h0s3gHADCG7EQBd              0.0        0.7250         0.508   \n",
       "2  0hA25gRi0Gh56Lb1wrud2Q              0.0        0.0231         0.704   \n",
       "3                     NaN              NaN           NaN           NaN   \n",
       "4  5Eeq19q3Ft77GpSENEZL2I             23.0        0.8090         0.307   \n",
       "\n",
       "   Energy  Liveness  Speechiness  Valence    Tempo  Instrumentalness  Loudness  \n",
       "0     NaN       NaN          NaN      NaN      NaN               NaN       NaN  \n",
       "1   0.368     0.133       0.0248    0.337   90.043             0.818    -7.697  \n",
       "2   0.686     0.183       0.0284    0.579  138.562             0.000    -8.509  \n",
       "3     NaN       NaN          NaN      NaN      NaN               NaN       NaN  \n",
       "4   0.267     0.269       0.0327    0.390  111.322             0.000   -11.898  "
      ]
     },
     "execution_count": 2,
     "metadata": {},
     "output_type": "execute_result"
    }
   ],
   "source": [
    "top100df = pd.read_csv(\"Resources/ALL_Features_Hot100List.csv\")\n",
    "top100df.head()"
   ]
  },
  {
   "cell_type": "code",
   "execution_count": 16,
   "metadata": {},
   "outputs": [
    {
     "data": {
      "text/plain": [
       "20950"
      ]
     },
     "execution_count": 16,
     "metadata": {},
     "output_type": "execute_result"
    }
   ],
   "source": [
    "top100filteredDF = top100df.dropna()\n",
    "top100filteredDF.head()\n",
    "len(top100filteredDF)"
   ]
  },
  {
   "cell_type": "code",
   "execution_count": 17,
   "metadata": {},
   "outputs": [
    {
     "data": {
      "text/plain": [
       "20040"
      ]
     },
     "execution_count": 17,
     "metadata": {},
     "output_type": "execute_result"
    }
   ],
   "source": [
    "top100not1df = top100filteredDF.loc[top100filteredDF[\"Peak_Position\"]>1,:]\n",
    "len(top100not1df)"
   ]
  },
  {
   "cell_type": "code",
   "execution_count": 20,
   "metadata": {
    "collapsed": true
   },
   "outputs": [],
   "source": [
    "top100not1df.to_csv(\"Resources/Top100Not1.csv\", index=False, encoding=\"UTF-8\")"
   ]
  },
  {
   "cell_type": "code",
   "execution_count": null,
   "metadata": {
    "collapsed": true
   },
   "outputs": [],
   "source": []
  }
 ],
 "metadata": {
  "kernelspec": {
   "display_name": "Python 3",
   "language": "python",
   "name": "python3"
  },
  "language_info": {
   "codemirror_mode": {
    "name": "ipython",
    "version": 3
   },
   "file_extension": ".py",
   "mimetype": "text/x-python",
   "name": "python",
   "nbconvert_exporter": "python",
   "pygments_lexer": "ipython3",
   "version": "3.6.3"
  }
 },
 "nbformat": 4,
 "nbformat_minor": 2
}
