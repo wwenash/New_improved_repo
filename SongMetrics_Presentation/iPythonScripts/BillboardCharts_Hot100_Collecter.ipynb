{
 "cells": [
  {
   "cell_type": "code",
   "execution_count": 1,
   "metadata": {},
   "outputs": [],
   "source": [
    "import os\n",
    "import csv\n",
    "import billboard\n",
    "from datetime import date, timedelta\n",
    "import pandas as pd\n",
    "\n",
    "#outputCSV = os.path.join('.', 'Resources', 'Hot_100BBCharts_time.csv')\n",
    "#inputCSV = os.path.join('.', 'Resources', 'test_Hot_100BBCharts_time.csv')\n",
    "inputCSV = os.path.join('.', 'Resources', 'Hot_100BBCharts_time.csv')\n",
    "outputCSV = os.path.join('.', 'Resources', 'test_Hot_100BBCharts_time.csv')\n",
    "\n",
    "#August 4, 1958  .... 3144 wednesdays \n",
    "beginDate = date(2018, 10, 20)\n",
    "#beginDate = date(1958, 8, 6)\n",
    "endDate = date(2018, 10, 31) \n",
    "\n",
    "#Finding all Wednesdays between a beginning and end dates.\n",
    "wednesdays = [beginDate + timedelta(days=x) for x in range((endDate-beginDate).days + 1) if (beginDate + timedelta(days=x)).weekday() == 2]\n",
    "\n",
    "#Open CSV for writing; iterate over the list of wednesdays; gather/write song speific data\n",
    "with open(outputCSV, \"w\", newline=\"\") as outCSVFile:\n",
    "    headers =['Date','Title','Artist','Peak_Position','Last_Position','Weeks_on_Chart','Rank_in_Chart','New_on_Chart']\n",
    "    writer = csv.DictWriter(outCSVFile,fieldnames=headers,extrasaction='ignore')\n",
    "    writer.writeheader()\n",
    "    counter = 0\n",
    "    for songDate in wednesdays:\n",
    "        chart = billboard.ChartData('hot-100', '%s' % songDate)\n",
    "        \n",
    "        for pos in range(99):\n",
    "            row = {}\n",
    "            songBBmetadata = chart[pos]\n",
    "            songData = {'Date':songDate,'Title':songBBmetadata.title,'Artist':songBBmetadata.artist,\n",
    "                        'Peak_Position':songBBmetadata.peakPos,'Last_Position':songBBmetadata.lastPos,\n",
    "                        'Weeks_on_Chart':songBBmetadata.weeks,'Rank_in_Chart':songBBmetadata.rank,\n",
    "                        'New_on_Chart':songBBmetadata.isNew}\n",
    "            writer.writerow(songData)\n",
    "            counter += 1\n",
    "            #print(counter)\n",
    "            \n"
   ]
  },
  {
   "cell_type": "code",
   "execution_count": 2,
   "metadata": {},
   "outputs": [
    {
     "name": "stdout",
     "output_type": "stream",
     "text": [
      "<class 'pandas.core.frame.DataFrame'>\n",
      "RangeIndex: 311256 entries, 0 to 311255\n",
      "Data columns (total 8 columns):\n",
      "Date              311256 non-null object\n",
      "Title             311256 non-null object\n",
      "Artist            311256 non-null object\n",
      "Peak_Position     311256 non-null int64\n",
      "Last_Position     311256 non-null int64\n",
      "Weeks_on_Chart    311256 non-null int64\n",
      "Rank_in_Chart     311256 non-null int64\n",
      "New_on_Chart      311256 non-null bool\n",
      "dtypes: bool(1), int64(4), object(3)\n",
      "memory usage: 16.9+ MB\n"
     ]
    }
   ],
   "source": [
    "#Read in CSV directly into a DataFrame\n",
    "billboardChartsDF = pd.read_csv(inputCSV, header=0)\n",
    "\n",
    "billboardChartsDF.info(verbose=True)\n"
   ]
  },
  {
   "cell_type": "code",
   "execution_count": 3,
   "metadata": {},
   "outputs": [
    {
     "data": {
      "text/plain": [
       "(311256, 8)"
      ]
     },
     "execution_count": 3,
     "metadata": {},
     "output_type": "execute_result"
    }
   ],
   "source": [
    "billboardChartsDF.shape"
   ]
  },
  {
   "cell_type": "code",
   "execution_count": 4,
   "metadata": {
    "scrolled": false
   },
   "outputs": [
    {
     "data": {
      "text/plain": [
       "Date              0\n",
       "Title             0\n",
       "Artist            0\n",
       "Peak_Position     0\n",
       "Last_Position     0\n",
       "Weeks_on_Chart    0\n",
       "Rank_in_Chart     0\n",
       "New_on_Chart      0\n",
       "dtype: int64"
      ]
     },
     "execution_count": 4,
     "metadata": {},
     "output_type": "execute_result"
    }
   ],
   "source": [
    "# Looking for NaN values in DF. This returns an integer of the total number of NaN values. First giving \n",
    "# a summation of the number of NaN values in a column, then the summation of those values:\n",
    "billboardChartsDF.isnull().sum()\n",
    "\n",
    "#The total number of NaN values in the DataFrame:\n",
    "#billboardChartsDF.isnull().sum().sum()"
   ]
  },
  {
   "cell_type": "code",
   "execution_count": 5,
   "metadata": {},
   "outputs": [
    {
     "data": {
      "text/html": [
       "<div>\n",
       "<style scoped>\n",
       "    .dataframe tbody tr th:only-of-type {\n",
       "        vertical-align: middle;\n",
       "    }\n",
       "\n",
       "    .dataframe tbody tr th {\n",
       "        vertical-align: top;\n",
       "    }\n",
       "\n",
       "    .dataframe thead th {\n",
       "        text-align: right;\n",
       "    }\n",
       "</style>\n",
       "<table border=\"1\" class=\"dataframe\">\n",
       "  <thead>\n",
       "    <tr style=\"text-align: right;\">\n",
       "      <th></th>\n",
       "      <th>Date</th>\n",
       "      <th>Title</th>\n",
       "      <th>Artist</th>\n",
       "      <th>Peak_Position</th>\n",
       "      <th>Last_Position</th>\n",
       "      <th>Weeks_on_Chart</th>\n",
       "      <th>Rank_in_Chart</th>\n",
       "      <th>New_on_Chart</th>\n",
       "    </tr>\n",
       "  </thead>\n",
       "  <tbody>\n",
       "    <tr>\n",
       "      <th>0</th>\n",
       "      <td>1958-08-06</td>\n",
       "      <td>Poor Little Fool</td>\n",
       "      <td>Ricky Nelson</td>\n",
       "      <td>1</td>\n",
       "      <td>1</td>\n",
       "      <td>2</td>\n",
       "      <td>1</td>\n",
       "      <td>False</td>\n",
       "    </tr>\n",
       "    <tr>\n",
       "      <th>1</th>\n",
       "      <td>1958-08-06</td>\n",
       "      <td>Nel Blu Dipinto Di Blu (Volaré)</td>\n",
       "      <td>Domenico Modugno</td>\n",
       "      <td>2</td>\n",
       "      <td>54</td>\n",
       "      <td>2</td>\n",
       "      <td>2</td>\n",
       "      <td>False</td>\n",
       "    </tr>\n",
       "    <tr>\n",
       "      <th>2</th>\n",
       "      <td>1958-08-06</td>\n",
       "      <td>Patricia</td>\n",
       "      <td>Perez Prado And His Orchestra</td>\n",
       "      <td>2</td>\n",
       "      <td>2</td>\n",
       "      <td>2</td>\n",
       "      <td>3</td>\n",
       "      <td>False</td>\n",
       "    </tr>\n",
       "    <tr>\n",
       "      <th>3</th>\n",
       "      <td>1958-08-06</td>\n",
       "      <td>Splish Splash</td>\n",
       "      <td>Bobby Darin</td>\n",
       "      <td>3</td>\n",
       "      <td>3</td>\n",
       "      <td>2</td>\n",
       "      <td>4</td>\n",
       "      <td>False</td>\n",
       "    </tr>\n",
       "    <tr>\n",
       "      <th>4</th>\n",
       "      <td>1958-08-06</td>\n",
       "      <td>When</td>\n",
       "      <td>Kalin Twins</td>\n",
       "      <td>5</td>\n",
       "      <td>5</td>\n",
       "      <td>2</td>\n",
       "      <td>5</td>\n",
       "      <td>False</td>\n",
       "    </tr>\n",
       "  </tbody>\n",
       "</table>\n",
       "</div>"
      ],
      "text/plain": [
       "         Date                            Title                         Artist  \\\n",
       "0  1958-08-06                 Poor Little Fool                   Ricky Nelson   \n",
       "1  1958-08-06  Nel Blu Dipinto Di Blu (Volaré)               Domenico Modugno   \n",
       "2  1958-08-06                         Patricia  Perez Prado And His Orchestra   \n",
       "3  1958-08-06                    Splish Splash                    Bobby Darin   \n",
       "4  1958-08-06                             When                    Kalin Twins   \n",
       "\n",
       "   Peak_Position  Last_Position  Weeks_on_Chart  Rank_in_Chart  New_on_Chart  \n",
       "0              1              1               2              1         False  \n",
       "1              2             54               2              2         False  \n",
       "2              2              2               2              3         False  \n",
       "3              3              3               2              4         False  \n",
       "4              5              5               2              5         False  "
      ]
     },
     "execution_count": 5,
     "metadata": {},
     "output_type": "execute_result"
    }
   ],
   "source": [
    "billboardChartsDF.head()"
   ]
  },
  {
   "cell_type": "code",
   "execution_count": 6,
   "metadata": {},
   "outputs": [
    {
     "data": {
      "text/html": [
       "<div>\n",
       "<style scoped>\n",
       "    .dataframe tbody tr th:only-of-type {\n",
       "        vertical-align: middle;\n",
       "    }\n",
       "\n",
       "    .dataframe tbody tr th {\n",
       "        vertical-align: top;\n",
       "    }\n",
       "\n",
       "    .dataframe thead th {\n",
       "        text-align: right;\n",
       "    }\n",
       "</style>\n",
       "<table border=\"1\" class=\"dataframe\">\n",
       "  <thead>\n",
       "    <tr style=\"text-align: right;\">\n",
       "      <th></th>\n",
       "      <th>Date</th>\n",
       "      <th>Title</th>\n",
       "      <th>Artist</th>\n",
       "      <th>Peak_Position</th>\n",
       "      <th>Last_Position</th>\n",
       "      <th>Weeks_on_Chart</th>\n",
       "      <th>Rank_in_Chart</th>\n",
       "      <th>New_on_Chart</th>\n",
       "    </tr>\n",
       "  </thead>\n",
       "  <tbody>\n",
       "    <tr>\n",
       "      <th>311251</th>\n",
       "      <td>2018-10-31</td>\n",
       "      <td>Backin' It Up</td>\n",
       "      <td>Pardison Fontaine Featuring Cardi B</td>\n",
       "      <td>92</td>\n",
       "      <td>0</td>\n",
       "      <td>2</td>\n",
       "      <td>95</td>\n",
       "      <td>False</td>\n",
       "    </tr>\n",
       "    <tr>\n",
       "      <th>311252</th>\n",
       "      <td>2018-10-31</td>\n",
       "      <td>Africa</td>\n",
       "      <td>Weezer</td>\n",
       "      <td>51</td>\n",
       "      <td>84</td>\n",
       "      <td>15</td>\n",
       "      <td>96</td>\n",
       "      <td>False</td>\n",
       "    </tr>\n",
       "    <tr>\n",
       "      <th>311253</th>\n",
       "      <td>2018-10-31</td>\n",
       "      <td>Electricity</td>\n",
       "      <td>Silk City x Dua Lipa</td>\n",
       "      <td>96</td>\n",
       "      <td>97</td>\n",
       "      <td>3</td>\n",
       "      <td>97</td>\n",
       "      <td>False</td>\n",
       "    </tr>\n",
       "    <tr>\n",
       "      <th>311254</th>\n",
       "      <td>2018-10-31</td>\n",
       "      <td>Get Dripped</td>\n",
       "      <td>Lil Yachty Featuring Playboi Carti</td>\n",
       "      <td>98</td>\n",
       "      <td>0</td>\n",
       "      <td>0</td>\n",
       "      <td>98</td>\n",
       "      <td>True</td>\n",
       "    </tr>\n",
       "    <tr>\n",
       "      <th>311255</th>\n",
       "      <td>2018-10-31</td>\n",
       "      <td>Drowns The Whiskey</td>\n",
       "      <td>Jason Aldean Featuring Miranda Lambert</td>\n",
       "      <td>32</td>\n",
       "      <td>98</td>\n",
       "      <td>18</td>\n",
       "      <td>99</td>\n",
       "      <td>False</td>\n",
       "    </tr>\n",
       "  </tbody>\n",
       "</table>\n",
       "</div>"
      ],
      "text/plain": [
       "              Date               Title  \\\n",
       "311251  2018-10-31       Backin' It Up   \n",
       "311252  2018-10-31              Africa   \n",
       "311253  2018-10-31         Electricity   \n",
       "311254  2018-10-31         Get Dripped   \n",
       "311255  2018-10-31  Drowns The Whiskey   \n",
       "\n",
       "                                        Artist  Peak_Position  Last_Position  \\\n",
       "311251     Pardison Fontaine Featuring Cardi B             92              0   \n",
       "311252                                  Weezer             51             84   \n",
       "311253                    Silk City x Dua Lipa             96             97   \n",
       "311254      Lil Yachty Featuring Playboi Carti             98              0   \n",
       "311255  Jason Aldean Featuring Miranda Lambert             32             98   \n",
       "\n",
       "        Weeks_on_Chart  Rank_in_Chart  New_on_Chart  \n",
       "311251               2             95         False  \n",
       "311252              15             96         False  \n",
       "311253               3             97         False  \n",
       "311254               0             98          True  \n",
       "311255              18             99         False  "
      ]
     },
     "execution_count": 6,
     "metadata": {},
     "output_type": "execute_result"
    }
   ],
   "source": [
    "billboardChartsDF.tail()"
   ]
  },
  {
   "cell_type": "code",
   "execution_count": null,
   "metadata": {},
   "outputs": [],
   "source": []
  }
 ],
 "metadata": {
  "kernelspec": {
   "display_name": "Python [conda env:anaconda3]",
   "language": "python",
   "name": "conda-env-anaconda3-py"
  },
  "language_info": {
   "codemirror_mode": {
    "name": "ipython",
    "version": 3
   },
   "file_extension": ".py",
   "mimetype": "text/x-python",
   "name": "python",
   "nbconvert_exporter": "python",
   "pygments_lexer": "ipython3",
   "version": "3.6.5"
  }
 },
 "nbformat": 4,
 "nbformat_minor": 2
}
