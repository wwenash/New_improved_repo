{
 "cells": [
  {
   "cell_type": "code",
   "execution_count": 5,
   "metadata": {},
   "outputs": [],
   "source": [
    "#8.3 Project Presentations for WASHSTL201809DATA3 by Group H - Cody Braun, Austen Manser and Bill Nash\n",
    "#BillboardCharts_Hot100_Collecter.ipynb\n",
    "\n",
    "#import dependencies\n",
    "import os\n",
    "import csv\n",
    "import billboard\n",
    "from datetime import date, timedelta\n",
    "import pandas as pd\n",
    "\n",
    "#outputCSV = os.path.join('.', 'Resources', 'Hot_100BBCharts_time.csv')\n",
    "#inputCSV = os.path.join('.', 'Resources', 'test_Hot_100BBCharts_time.csv')\n",
    "inputCSV = os.path.join('.', '..','Resources', 'Class_Hot100BBCharts_time.csv')\n",
    "outputCSV = os.path.join('.', '..','Resources', 'Class_Hot100BBCharts_time.csv')\n",
    "\n",
    "#August 4, 1958  .... 3144 wednesdays \n",
    "beginDate = date(2018, 10, 24)\n",
    "#beginDate = date(1958, 8, 6)\n",
    "endDate = date(2018, 10, 31) \n",
    "\n",
    "#Finding all Wednesdays between a beginning and end dates.\n",
    "wednesdays = [beginDate + timedelta(days=x) for x in range((endDate-beginDate).days + 1) if (beginDate + timedelta(days=x)).weekday() == 2]\n",
    "\n",
    "#Open CSV for writing; iterate over the list of wednesdays; gather/write song speific data\n",
    "with open(outputCSV, \"w\", newline=\"\") as outCSVFile:\n",
    "    headers =['Date','Title','Artist','Peak_Position','Last_Position','Weeks_on_Chart','Rank_in_Chart','New_on_Chart']\n",
    "    writer = csv.DictWriter(outCSVFile,fieldnames=headers,extrasaction='ignore')\n",
    "    writer.writeheader()\n",
    "    counter = 0\n",
    "    for songDate in wednesdays:\n",
    "        chart = billboard.ChartData('hot-100', '%s' % songDate)\n",
    "        \n",
    "        for pos in range(99):\n",
    "            row = {}\n",
    "            songBBmetadata = chart[pos]\n",
    "            songData = {'Date':songDate,'Title':songBBmetadata.title,'Artist':songBBmetadata.artist,\n",
    "                        'Peak_Position':songBBmetadata.peakPos,'Last_Position':songBBmetadata.lastPos,\n",
    "                        'Weeks_on_Chart':songBBmetadata.weeks,'Rank_in_Chart':songBBmetadata.rank,\n",
    "                        'New_on_Chart':songBBmetadata.isNew}\n",
    "            writer.writerow(songData)\n",
    "            counter += 1\n",
    "            #print(counter)\n",
    "            \n"
   ]
  },
  {
   "cell_type": "code",
   "execution_count": 6,
   "metadata": {},
   "outputs": [
    {
     "name": "stdout",
     "output_type": "stream",
     "text": [
      "<class 'pandas.core.frame.DataFrame'>\n",
      "RangeIndex: 198 entries, 0 to 197\n",
      "Data columns (total 8 columns):\n",
      "Date              198 non-null object\n",
      "Title             198 non-null object\n",
      "Artist            198 non-null object\n",
      "Peak_Position     198 non-null int64\n",
      "Last_Position     198 non-null int64\n",
      "Weeks_on_Chart    198 non-null int64\n",
      "Rank_in_Chart     198 non-null int64\n",
      "New_on_Chart      198 non-null bool\n",
      "dtypes: bool(1), int64(4), object(3)\n",
      "memory usage: 11.1+ KB\n"
     ]
    }
   ],
   "source": [
    "#Read in CSV directly into a DataFrame\n",
    "billboardChartsDF = pd.read_csv(inputCSV, header=0)\n",
    "\n",
    "billboardChartsDF.info(verbose=True)\n"
   ]
  },
  {
   "cell_type": "code",
   "execution_count": 7,
   "metadata": {},
   "outputs": [
    {
     "data": {
      "text/plain": [
       "(198, 8)"
      ]
     },
     "execution_count": 7,
     "metadata": {},
     "output_type": "execute_result"
    }
   ],
   "source": [
    "billboardChartsDF.shape"
   ]
  },
  {
   "cell_type": "code",
   "execution_count": 9,
   "metadata": {
    "scrolled": false
   },
   "outputs": [
    {
     "data": {
      "text/plain": [
       "Date              0\n",
       "Title             0\n",
       "Artist            0\n",
       "Peak_Position     0\n",
       "Last_Position     0\n",
       "Weeks_on_Chart    0\n",
       "Rank_in_Chart     0\n",
       "New_on_Chart      0\n",
       "dtype: int64"
      ]
     },
     "execution_count": 9,
     "metadata": {},
     "output_type": "execute_result"
    }
   ],
   "source": [
    "# Looking for NaN values in DF. This returns an integer of the total number of NaN values. First giving \n",
    "# a summation of the number of NaN values in a column, then the summation of those values:\n",
    "billboardChartsDF.isnull().sum()\n",
    "\n",
    "#The total number of NaN values in the DataFrame:\n",
    "#billboardChartsDF.isnull().sum().sum()"
   ]
  },
  {
   "cell_type": "code",
   "execution_count": 10,
   "metadata": {},
   "outputs": [
    {
     "data": {
      "text/html": [
       "<div>\n",
       "<style scoped>\n",
       "    .dataframe tbody tr th:only-of-type {\n",
       "        vertical-align: middle;\n",
       "    }\n",
       "\n",
       "    .dataframe tbody tr th {\n",
       "        vertical-align: top;\n",
       "    }\n",
       "\n",
       "    .dataframe thead th {\n",
       "        text-align: right;\n",
       "    }\n",
       "</style>\n",
       "<table border=\"1\" class=\"dataframe\">\n",
       "  <thead>\n",
       "    <tr style=\"text-align: right;\">\n",
       "      <th></th>\n",
       "      <th>Date</th>\n",
       "      <th>Title</th>\n",
       "      <th>Artist</th>\n",
       "      <th>Peak_Position</th>\n",
       "      <th>Last_Position</th>\n",
       "      <th>Weeks_on_Chart</th>\n",
       "      <th>Rank_in_Chart</th>\n",
       "      <th>New_on_Chart</th>\n",
       "    </tr>\n",
       "  </thead>\n",
       "  <tbody>\n",
       "    <tr>\n",
       "      <th>0</th>\n",
       "      <td>2018-10-24</td>\n",
       "      <td>Girls Like You</td>\n",
       "      <td>Maroon 5 Featuring Cardi B</td>\n",
       "      <td>1</td>\n",
       "      <td>1</td>\n",
       "      <td>21</td>\n",
       "      <td>1</td>\n",
       "      <td>False</td>\n",
       "    </tr>\n",
       "    <tr>\n",
       "      <th>1</th>\n",
       "      <td>2018-10-24</td>\n",
       "      <td>ZEZE</td>\n",
       "      <td>Kodak Black Featuring Travis Scott &amp; Offset</td>\n",
       "      <td>2</td>\n",
       "      <td>0</td>\n",
       "      <td>0</td>\n",
       "      <td>2</td>\n",
       "      <td>True</td>\n",
       "    </tr>\n",
       "    <tr>\n",
       "      <th>2</th>\n",
       "      <td>2018-10-24</td>\n",
       "      <td>Lucid Dreams</td>\n",
       "      <td>Juice WRLD</td>\n",
       "      <td>2</td>\n",
       "      <td>2</td>\n",
       "      <td>23</td>\n",
       "      <td>3</td>\n",
       "      <td>False</td>\n",
       "    </tr>\n",
       "    <tr>\n",
       "      <th>3</th>\n",
       "      <td>2018-10-24</td>\n",
       "      <td>Better Now</td>\n",
       "      <td>Post Malone</td>\n",
       "      <td>3</td>\n",
       "      <td>3</td>\n",
       "      <td>25</td>\n",
       "      <td>4</td>\n",
       "      <td>False</td>\n",
       "    </tr>\n",
       "    <tr>\n",
       "      <th>4</th>\n",
       "      <td>2018-10-24</td>\n",
       "      <td>MIA</td>\n",
       "      <td>Bad Bunny Featuring Drake</td>\n",
       "      <td>5</td>\n",
       "      <td>0</td>\n",
       "      <td>0</td>\n",
       "      <td>5</td>\n",
       "      <td>True</td>\n",
       "    </tr>\n",
       "  </tbody>\n",
       "</table>\n",
       "</div>"
      ],
      "text/plain": [
       "         Date           Title                                       Artist  \\\n",
       "0  2018-10-24  Girls Like You                   Maroon 5 Featuring Cardi B   \n",
       "1  2018-10-24            ZEZE  Kodak Black Featuring Travis Scott & Offset   \n",
       "2  2018-10-24    Lucid Dreams                                   Juice WRLD   \n",
       "3  2018-10-24      Better Now                                  Post Malone   \n",
       "4  2018-10-24             MIA                    Bad Bunny Featuring Drake   \n",
       "\n",
       "   Peak_Position  Last_Position  Weeks_on_Chart  Rank_in_Chart  New_on_Chart  \n",
       "0              1              1              21              1         False  \n",
       "1              2              0               0              2          True  \n",
       "2              2              2              23              3         False  \n",
       "3              3              3              25              4         False  \n",
       "4              5              0               0              5          True  "
      ]
     },
     "execution_count": 10,
     "metadata": {},
     "output_type": "execute_result"
    }
   ],
   "source": [
    "billboardChartsDF.head()"
   ]
  },
  {
   "cell_type": "code",
   "execution_count": 11,
   "metadata": {},
   "outputs": [
    {
     "data": {
      "text/html": [
       "<div>\n",
       "<style scoped>\n",
       "    .dataframe tbody tr th:only-of-type {\n",
       "        vertical-align: middle;\n",
       "    }\n",
       "\n",
       "    .dataframe tbody tr th {\n",
       "        vertical-align: top;\n",
       "    }\n",
       "\n",
       "    .dataframe thead th {\n",
       "        text-align: right;\n",
       "    }\n",
       "</style>\n",
       "<table border=\"1\" class=\"dataframe\">\n",
       "  <thead>\n",
       "    <tr style=\"text-align: right;\">\n",
       "      <th></th>\n",
       "      <th>Date</th>\n",
       "      <th>Title</th>\n",
       "      <th>Artist</th>\n",
       "      <th>Peak_Position</th>\n",
       "      <th>Last_Position</th>\n",
       "      <th>Weeks_on_Chart</th>\n",
       "      <th>Rank_in_Chart</th>\n",
       "      <th>New_on_Chart</th>\n",
       "    </tr>\n",
       "  </thead>\n",
       "  <tbody>\n",
       "    <tr>\n",
       "      <th>193</th>\n",
       "      <td>2018-10-31</td>\n",
       "      <td>Backin' It Up</td>\n",
       "      <td>Pardison Fontaine Featuring Cardi B</td>\n",
       "      <td>92</td>\n",
       "      <td>0</td>\n",
       "      <td>2</td>\n",
       "      <td>95</td>\n",
       "      <td>False</td>\n",
       "    </tr>\n",
       "    <tr>\n",
       "      <th>194</th>\n",
       "      <td>2018-10-31</td>\n",
       "      <td>Africa</td>\n",
       "      <td>Weezer</td>\n",
       "      <td>51</td>\n",
       "      <td>84</td>\n",
       "      <td>15</td>\n",
       "      <td>96</td>\n",
       "      <td>False</td>\n",
       "    </tr>\n",
       "    <tr>\n",
       "      <th>195</th>\n",
       "      <td>2018-10-31</td>\n",
       "      <td>Electricity</td>\n",
       "      <td>Silk City x Dua Lipa</td>\n",
       "      <td>96</td>\n",
       "      <td>97</td>\n",
       "      <td>3</td>\n",
       "      <td>97</td>\n",
       "      <td>False</td>\n",
       "    </tr>\n",
       "    <tr>\n",
       "      <th>196</th>\n",
       "      <td>2018-10-31</td>\n",
       "      <td>Get Dripped</td>\n",
       "      <td>Lil Yachty Featuring Playboi Carti</td>\n",
       "      <td>98</td>\n",
       "      <td>0</td>\n",
       "      <td>0</td>\n",
       "      <td>98</td>\n",
       "      <td>True</td>\n",
       "    </tr>\n",
       "    <tr>\n",
       "      <th>197</th>\n",
       "      <td>2018-10-31</td>\n",
       "      <td>Drowns The Whiskey</td>\n",
       "      <td>Jason Aldean Featuring Miranda Lambert</td>\n",
       "      <td>32</td>\n",
       "      <td>98</td>\n",
       "      <td>18</td>\n",
       "      <td>99</td>\n",
       "      <td>False</td>\n",
       "    </tr>\n",
       "  </tbody>\n",
       "</table>\n",
       "</div>"
      ],
      "text/plain": [
       "           Date               Title                                  Artist  \\\n",
       "193  2018-10-31       Backin' It Up     Pardison Fontaine Featuring Cardi B   \n",
       "194  2018-10-31              Africa                                  Weezer   \n",
       "195  2018-10-31         Electricity                    Silk City x Dua Lipa   \n",
       "196  2018-10-31         Get Dripped      Lil Yachty Featuring Playboi Carti   \n",
       "197  2018-10-31  Drowns The Whiskey  Jason Aldean Featuring Miranda Lambert   \n",
       "\n",
       "     Peak_Position  Last_Position  Weeks_on_Chart  Rank_in_Chart  New_on_Chart  \n",
       "193             92              0               2             95         False  \n",
       "194             51             84              15             96         False  \n",
       "195             96             97               3             97         False  \n",
       "196             98              0               0             98          True  \n",
       "197             32             98              18             99         False  "
      ]
     },
     "execution_count": 11,
     "metadata": {},
     "output_type": "execute_result"
    }
   ],
   "source": [
    "billboardChartsDF.tail()"
   ]
  },
  {
   "cell_type": "code",
   "execution_count": null,
   "metadata": {},
   "outputs": [],
   "source": []
  }
 ],
 "metadata": {
  "kernelspec": {
   "display_name": "Python [conda env:anaconda3]",
   "language": "python",
   "name": "conda-env-anaconda3-py"
  },
  "language_info": {
   "codemirror_mode": {
    "name": "ipython",
    "version": 3
   },
   "file_extension": ".py",
   "mimetype": "text/x-python",
   "name": "python",
   "nbconvert_exporter": "python",
   "pygments_lexer": "ipython3",
   "version": "3.6.5"
  }
 },
 "nbformat": 4,
 "nbformat_minor": 2
}
