{
 "cells": [
  {
   "cell_type": "code",
   "execution_count": 1,
   "metadata": {},
   "outputs": [],
   "source": [
    "#8.3 Project Presentations for WASHSTL201809DATA3 by Group H - Cody Braun, Austen Manser and Bill Nash\n",
    "\n",
    "import spotipy\n",
    "from spotipy import util\n",
    "from pprint import pprint\n",
    "import random\n",
    "import string\n",
    "import pandas as pd\n",
    "import numpy as np\n",
    "\n",
    "username = 'ernyjyqoecerasugt8dpmhbmo'\n",
    "scope = 'playlist-modify-public'\n",
    "my_client_id = '83c842b2f4d447b6b2a19df91847487d'\n",
    "my_client_secret = '8bd6101237114d9eb851e2d3183affce'"
   ]
  },
  {
   "cell_type": "code",
   "execution_count": 2,
   "metadata": {},
   "outputs": [],
   "source": [
    "spotify_token = util.prompt_for_user_token(username, \n",
    "                                           scope, \n",
    "                                           client_id=my_client_id, \n",
    "                                           client_secret=my_client_secret,\n",
    "                                           redirect_uri='http://example.com/callback/')"
   ]
  },
  {
   "cell_type": "code",
   "execution_count": 3,
   "metadata": {},
   "outputs": [
    {
     "data": {
      "text/html": [
       "<div>\n",
       "<style scoped>\n",
       "    .dataframe tbody tr th:only-of-type {\n",
       "        vertical-align: middle;\n",
       "    }\n",
       "\n",
       "    .dataframe tbody tr th {\n",
       "        vertical-align: top;\n",
       "    }\n",
       "\n",
       "    .dataframe thead th {\n",
       "        text-align: right;\n",
       "    }\n",
       "</style>\n",
       "<table border=\"1\" class=\"dataframe\">\n",
       "  <thead>\n",
       "    <tr style=\"text-align: right;\">\n",
       "      <th></th>\n",
       "      <th>Song Name</th>\n",
       "      <th>Artists</th>\n",
       "      <th>Song Popularity</th>\n",
       "      <th>Song ID</th>\n",
       "      <th>Acousticness</th>\n",
       "      <th>Danceability</th>\n",
       "      <th>Energy</th>\n",
       "      <th>Liveness</th>\n",
       "      <th>Speechiness</th>\n",
       "      <th>Valence</th>\n",
       "    </tr>\n",
       "  </thead>\n",
       "  <tbody>\n",
       "    <tr>\n",
       "      <th>0</th>\n",
       "      <td>NaN</td>\n",
       "      <td>NaN</td>\n",
       "      <td>NaN</td>\n",
       "      <td>NaN</td>\n",
       "      <td>NaN</td>\n",
       "      <td>NaN</td>\n",
       "      <td>NaN</td>\n",
       "      <td>NaN</td>\n",
       "      <td>NaN</td>\n",
       "      <td>NaN</td>\n",
       "    </tr>\n",
       "  </tbody>\n",
       "</table>\n",
       "</div>"
      ],
      "text/plain": [
       "  Song Name Artists Song Popularity Song ID Acousticness Danceability Energy  \\\n",
       "0       NaN     NaN             NaN     NaN          NaN          NaN    NaN   \n",
       "\n",
       "  Liveness Speechiness Valence  \n",
       "0      NaN         NaN     NaN  "
      ]
     },
     "execution_count": 3,
     "metadata": {},
     "output_type": "execute_result"
    }
   ],
   "source": [
    "sp = spotipy.Spotify(auth=spotify_token)\n",
    "\n",
    "index = np.arange(0,1,1)\n",
    "\n",
    "dfcolumns = [\"Song Name\",\"Artists\",\"Song Popularity\",\"Song ID\",\"Acousticness\",\"Danceability\",\n",
    "          \"Energy\",\"Liveness\",\"Speechiness\",\"Valence\"]\n",
    "df = pd.DataFrame(index=index,columns=dfcolumns)\n",
    "df"
   ]
  },
  {
   "cell_type": "code",
   "execution_count": 6,
   "metadata": {},
   "outputs": [],
   "source": []
  },
  {
   "cell_type": "code",
   "execution_count": 17,
   "metadata": {},
   "outputs": [],
   "source": [
    "name = []\n",
    "artists = []\n",
    "popularity = []\n",
    "song_id = []\n",
    "acousticness = []\n",
    "danceability = []\n",
    "energy = []\n",
    "liveness = []\n",
    "speechiness = []\n",
    "valence = []\n",
    "\n",
    "#for i in range(10):\n",
    "\n",
    "random_letter = random.choice(string.ascii_lowercase)\n",
    "search_offset = random.randint(0,21)\n",
    "\n",
    "results = sp.search(q=random_letter, type='track', offset=search_offset, limit=20)\n",
    "\n",
    "#pprint(results[\"tracks\"][\"items\"][0])\n",
    "artists = \"\"\n",
    "try:\n",
    "    for x in range(len(results[\"tracks\"][\"items\"][0][\"artists\"])):\n",
    "        artists = artists+(results[\"tracks\"][\"items\"][0][\"artists\"][x][\"name\"])\n",
    "        if x < len(results[\"tracks\"][\"items\"][0][\"artists\"])-1:\n",
    "            artists = artists + \", \"\n",
    "\n",
    "    name.append(results[\"tracks\"][\"items\"][0][\"name\"])\n",
    "    popularity.append(results[\"tracks\"][\"items\"][0][\"popularity\"])\n",
    "    song_id.append(results[\"tracks\"][\"items\"][0][\"id\"])\n",
    "    feats = sp.audio_features(results[\"tracks\"][\"items\"][0][\"id\"])\n",
    "    acousticness.append(feats[0][\"acousticness\"])\n",
    "    danceability.append(feats[0][\"danceability\"])\n",
    "    energy.append(feats[0][\"energy\"])\n",
    "    liveness.append(feats[0][\"liveness\"])\n",
    "    speechiness.append(feats[0][\"speechiness\"])\n",
    "    valence.append(feats[0][\"valence\"])\n",
    "\n",
    "except:\n",
    "    print(\"error getting song info\")\n",
    "    \n",
    "    \n",
    "df[\"Song Name\"] = name\n",
    "df[\"Artists\"] = artists\n",
    "df[\"Song Popularity\"] = popularity\n",
    "df[\"Song ID\"] = song_id\n",
    "df[\"Acousticness\"] = acousticness\n",
    "df[\"Danceability\"] = danceability\n",
    "df[\"Energy\"] = energy\n",
    "df[\"Liveness\"] = liveness\n",
    "df[\"Speechiness\"] = speechiness\n",
    "df[\"Valence\"] = valence"
   ]
  },
  {
   "cell_type": "code",
   "execution_count": 18,
   "metadata": {},
   "outputs": [
    {
     "data": {
      "text/html": [
       "<div>\n",
       "<style scoped>\n",
       "    .dataframe tbody tr th:only-of-type {\n",
       "        vertical-align: middle;\n",
       "    }\n",
       "\n",
       "    .dataframe tbody tr th {\n",
       "        vertical-align: top;\n",
       "    }\n",
       "\n",
       "    .dataframe thead th {\n",
       "        text-align: right;\n",
       "    }\n",
       "</style>\n",
       "<table border=\"1\" class=\"dataframe\">\n",
       "  <thead>\n",
       "    <tr style=\"text-align: right;\">\n",
       "      <th></th>\n",
       "      <th>Song Name</th>\n",
       "      <th>Artists</th>\n",
       "      <th>Song Popularity</th>\n",
       "      <th>Song ID</th>\n",
       "      <th>Acousticness</th>\n",
       "      <th>Danceability</th>\n",
       "      <th>Energy</th>\n",
       "      <th>Liveness</th>\n",
       "      <th>Speechiness</th>\n",
       "      <th>Valence</th>\n",
       "    </tr>\n",
       "  </thead>\n",
       "  <tbody>\n",
       "    <tr>\n",
       "      <th>0</th>\n",
       "      <td>Bounce Back</td>\n",
       "      <td>Big Sean</td>\n",
       "      <td>79</td>\n",
       "      <td>0SGkqnVQo9KPytSri1H6cF</td>\n",
       "      <td>0.105</td>\n",
       "      <td>0.77</td>\n",
       "      <td>0.567</td>\n",
       "      <td>0.125</td>\n",
       "      <td>0.175</td>\n",
       "      <td>0.26</td>\n",
       "    </tr>\n",
       "  </tbody>\n",
       "</table>\n",
       "</div>"
      ],
      "text/plain": [
       "     Song Name   Artists  Song Popularity                 Song ID  \\\n",
       "0  Bounce Back  Big Sean               79  0SGkqnVQo9KPytSri1H6cF   \n",
       "\n",
       "   Acousticness  Danceability  Energy  Liveness  Speechiness  Valence  \n",
       "0         0.105          0.77   0.567     0.125        0.175     0.26  "
      ]
     },
     "execution_count": 18,
     "metadata": {},
     "output_type": "execute_result"
    }
   ],
   "source": [
    "df"
   ]
  },
  {
   "cell_type": "code",
   "execution_count": null,
   "metadata": {
    "collapsed": true
   },
   "outputs": [],
   "source": []
  }
 ],
 "metadata": {
  "kernelspec": {
   "display_name": "Python [default]",
   "language": "python",
   "name": "python3"
  },
  "language_info": {
   "codemirror_mode": {
    "name": "ipython",
    "version": 3
   },
   "file_extension": ".py",
   "mimetype": "text/x-python",
   "name": "python",
   "nbconvert_exporter": "python",
   "pygments_lexer": "ipython3",
   "version": "3.6.5"
  }
 },
 "nbformat": 4,
 "nbformat_minor": 2
}
